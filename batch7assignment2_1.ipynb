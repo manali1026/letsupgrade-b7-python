{
  "nbformat": 4,
  "nbformat_minor": 0,
  "metadata": {
    "colab": {
      "name": "batch7assignment2.1",
      "provenance": [],
      "authorship_tag": "ABX9TyPP38Uxb3CvO9jgpjTE1Adz",
      "include_colab_link": true
    },
    "kernelspec": {
      "name": "python3",
      "display_name": "Python 3"
    }
  },
  "cells": [
    {
      "cell_type": "markdown",
      "metadata": {
        "id": "view-in-github",
        "colab_type": "text"
      },
      "source": [
        "<a href=\"https://colab.research.google.com/github/manali1026/letsupgrade-b7-python/blob/master/batch7assignment2_1.ipynb\" target=\"_parent\"><img src=\"https://colab.research.google.com/assets/colab-badge.svg\" alt=\"Open In Colab\"/></a>"
      ]
    },
    {
      "cell_type": "code",
      "metadata": {
        "id": "iy6lJj-EbaIK",
        "colab_type": "code",
        "colab": {
          "base_uri": "https://localhost:8080/",
          "height": 68
        },
        "outputId": "b995f7ae-c6bb-4659-d8f2-f6569391de08"
      },
      "source": [
        "print(\"what is your altitude?\")\n",
        "\n",
        "altitude = int(input()) \n",
        "\n",
        "if altitude <= 1000:\n",
        " print(\"safe to land\")\n",
        "elif altitude <= 5000:\n",
        " print(\"bring down to 1000\")\n",
        "else :\n",
        " print(\"turn around\")\n",
        " "
      ],
      "execution_count": 1,
      "outputs": [
        {
          "output_type": "stream",
          "text": [
            "what is your altitude?\n",
            "800\n",
            "safe to land\n"
          ],
          "name": "stdout"
        }
      ]
    },
    {
      "cell_type": "code",
      "metadata": {
        "id": "dEvoJZg4xZWv",
        "colab_type": "code",
        "colab": {
          "base_uri": "https://localhost:8080/",
          "height": 68
        },
        "outputId": "9113e3d8-6e30-4a06-c8c5-7760a2ee5336"
      },
      "source": [
        "print(\"what is your altitude?\")\n",
        "\n",
        "altitude = int(input()) \n",
        "\n",
        "if altitude <= 1000:\n",
        " print(\"safe to land\")\n",
        "elif altitude <= 5000:\n",
        " print(\"bring down to 1000\")\n",
        "else :\n",
        " print(\"turn around\")\n",
        " "
      ],
      "execution_count": 2,
      "outputs": [
        {
          "output_type": "stream",
          "text": [
            "what is your altitude?\n",
            "4999\n",
            "bring down to 1000\n"
          ],
          "name": "stdout"
        }
      ]
    },
    {
      "cell_type": "code",
      "metadata": {
        "id": "4cCEijnwxgRJ",
        "colab_type": "code",
        "colab": {
          "base_uri": "https://localhost:8080/",
          "height": 68
        },
        "outputId": "d39a6065-41f8-44c5-b7c0-d3f7cfc3b466"
      },
      "source": [
        "print(\"what is your altitude?\")\n",
        "\n",
        "altitude = int(input()) \n",
        "\n",
        "if altitude <= 1000:\n",
        " print(\"safe to land\")\n",
        "elif altitude <= 5000:\n",
        " print(\"bring down to 1000\")\n",
        "else :\n",
        " print(\"turn around\")\n",
        " "
      ],
      "execution_count": 3,
      "outputs": [
        {
          "output_type": "stream",
          "text": [
            "what is your altitude?\n",
            "6000\n",
            "turn around\n"
          ],
          "name": "stdout"
        }
      ]
    }
  ]
}