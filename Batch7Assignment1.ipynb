{
  "nbformat": 4,
  "nbformat_minor": 0,
  "metadata": {
    "colab": {
      "name": "Batch7Assignment1.ipynb",
      "provenance": [],
      "authorship_tag": "ABX9TyOGWzTUUvD2qV64nr0pbB7a",
      "include_colab_link": true
    },
    "kernelspec": {
      "name": "python3",
      "display_name": "Python 3"
    }
  },
  "cells": [
    {
      "cell_type": "markdown",
      "metadata": {
        "id": "view-in-github",
        "colab_type": "text"
      },
      "source": [
        "<a href=\"https://colab.research.google.com/github/manali1026/letsupgrade-b7-python/blob/master/Batch7Assignment1.ipynb\" target=\"_parent\"><img src=\"https://colab.research.google.com/assets/colab-badge.svg\" alt=\"Open In Colab\"/></a>"
      ]
    },
    {
      "cell_type": "code",
      "metadata": {
        "id": "iRusQWr9UwSW",
        "colab_type": "code",
        "colab": {
          "base_uri": "https://localhost:8080/",
          "height": 34
        },
        "outputId": "cc2772f7-25be-4a6e-f9cd-0ab67aeec293"
      },
      "source": [
        "# list \n",
        "\n",
        "lst = [\"Manali\", 10, 20, 30, 41.2, [1,2,3,4] ]\n",
        "lst"
      ],
      "execution_count": 1,
      "outputs": [
        {
          "output_type": "execute_result",
          "data": {
            "text/plain": [
              "['Manali', 10, 20, 30, 41.2, [1, 2, 3, 4]]"
            ]
          },
          "metadata": {
            "tags": []
          },
          "execution_count": 1
        }
      ]
    },
    {
      "cell_type": "code",
      "metadata": {
        "id": "7qZEJuxnBHMc",
        "colab_type": "code",
        "colab": {
          "base_uri": "https://localhost:8080/",
          "height": 34
        },
        "outputId": "10255e13-535d-4819-ae6e-641992d9d98d"
      },
      "source": [
        "#index\n",
        "lst.index(41.2)"
      ],
      "execution_count": 2,
      "outputs": [
        {
          "output_type": "execute_result",
          "data": {
            "text/plain": [
              "4"
            ]
          },
          "metadata": {
            "tags": []
          },
          "execution_count": 2
        }
      ]
    },
    {
      "cell_type": "code",
      "metadata": {
        "id": "lo3r2mv-BpnM",
        "colab_type": "code",
        "colab": {
          "base_uri": "https://localhost:8080/",
          "height": 34
        },
        "outputId": "ed1529de-0045-4495-b17c-eb921ef0affa"
      },
      "source": [
        "lst[-3]"
      ],
      "execution_count": 4,
      "outputs": [
        {
          "output_type": "execute_result",
          "data": {
            "text/plain": [
              "30"
            ]
          },
          "metadata": {
            "tags": []
          },
          "execution_count": 4
        }
      ]
    },
    {
      "cell_type": "code",
      "metadata": {
        "id": "dQTuwfkHB0jG",
        "colab_type": "code",
        "colab": {
          "base_uri": "https://localhost:8080/",
          "height": 34
        },
        "outputId": "c715a690-217d-49b8-a593-52e0b99ac8df"
      },
      "source": [
        "#append\n",
        "lst.append(\"Hardas\")\n",
        "lst"
      ],
      "execution_count": 5,
      "outputs": [
        {
          "output_type": "execute_result",
          "data": {
            "text/plain": [
              "['Manali', 10, 20, 30, 41.2, [1, 2, 3, 4], 'Hardas']"
            ]
          },
          "metadata": {
            "tags": []
          },
          "execution_count": 5
        }
      ]
    },
    {
      "cell_type": "code",
      "metadata": {
        "id": "xmcOP5ErDhtj",
        "colab_type": "code",
        "colab": {
          "base_uri": "https://localhost:8080/",
          "height": 34
        },
        "outputId": "38c093db-fae2-4021-c280-c6a3284b59eb"
      },
      "source": [
        "#remove\n",
        "lst.remove(30)\n",
        "lst"
      ],
      "execution_count": 6,
      "outputs": [
        {
          "output_type": "execute_result",
          "data": {
            "text/plain": [
              "['Manali', 10, 20, 41.2, [1, 2, 3, 4], 'Hardas']"
            ]
          },
          "metadata": {
            "tags": []
          },
          "execution_count": 6
        }
      ]
    },
    {
      "cell_type": "code",
      "metadata": {
        "id": "N8HVCqXDFh6K",
        "colab_type": "code",
        "colab": {
          "base_uri": "https://localhost:8080/",
          "height": 34
        },
        "outputId": "475c74c5-4aec-4c10-952f-2b68c4be17e7"
      },
      "source": [
        "#extend\n",
        "lst.extend([40,60,20])\n",
        "lst"
      ],
      "execution_count": 7,
      "outputs": [
        {
          "output_type": "execute_result",
          "data": {
            "text/plain": [
              "['Manali', 10, 20, 41.2, [1, 2, 3, 4], 'Hardas', 40, 60, 20]"
            ]
          },
          "metadata": {
            "tags": []
          },
          "execution_count": 7
        }
      ]
    },
    {
      "cell_type": "code",
      "metadata": {
        "id": "2ZNrLGLLHeAQ",
        "colab_type": "code",
        "colab": {
          "base_uri": "https://localhost:8080/",
          "height": 34
        },
        "outputId": "3be4086c-c421-43cd-c757-8e38c1cbf649"
      },
      "source": [
        "#insert\n",
        "lst.insert(0,30)\n",
        "lst"
      ],
      "execution_count": 22,
      "outputs": [
        {
          "output_type": "execute_result",
          "data": {
            "text/plain": [
              "[30, 'Manali', 10, 20, 41.2, [1, 2, 3, 4], 'Hardas', 40, 60, 20]"
            ]
          },
          "metadata": {
            "tags": []
          },
          "execution_count": 22
        }
      ]
    },
    {
      "cell_type": "code",
      "metadata": {
        "id": "9H86B5P1H3MG",
        "colab_type": "code",
        "colab": {
          "base_uri": "https://localhost:8080/",
          "height": 34
        },
        "outputId": "3dab7ae2-0f26-464a-eb09-520ebd504e75"
      },
      "source": [
        "#dictionary\n",
        "\n",
        "dit = {\"Name\":\"Manali Hardas\", \"Age\": \"26\", \"Mobile\": \"12345\", \"City\":\"Mumbai\"}\n",
        "dit\n",
        "\n"
      ],
      "execution_count": 23,
      "outputs": [
        {
          "output_type": "execute_result",
          "data": {
            "text/plain": [
              "{'Age': '26', 'City': 'Mumbai', 'Mobile': '12345', 'Name': 'Manali Hardas'}"
            ]
          },
          "metadata": {
            "tags": []
          },
          "execution_count": 23
        }
      ]
    },
    {
      "cell_type": "code",
      "metadata": {
        "id": "4horZVVtKb9w",
        "colab_type": "code",
        "colab": {
          "base_uri": "https://localhost:8080/",
          "height": 34
        },
        "outputId": "333751cd-f555-4d06-b30e-b07d9f7a475d"
      },
      "source": [
        "#clear\n",
        "dit.clear()\n",
        "dit"
      ],
      "execution_count": 24,
      "outputs": [
        {
          "output_type": "execute_result",
          "data": {
            "text/plain": [
              "{}"
            ]
          },
          "metadata": {
            "tags": []
          },
          "execution_count": 24
        }
      ]
    },
    {
      "cell_type": "code",
      "metadata": {
        "id": "mL0iImA2KrGJ",
        "colab_type": "code",
        "colab": {
          "base_uri": "https://localhost:8080/",
          "height": 34
        },
        "outputId": "3d20583f-1570-473f-d41c-82ed85ab61e7"
      },
      "source": [
        "#pop\n",
        "dit = {\"Name\":\"Manali Hardas\", \"Age\": \"26\", \"Mobile\": \"12345\", \"City\":\"Mumbai\"}\n",
        "dit.pop('Name')\n",
        "dit"
      ],
      "execution_count": 26,
      "outputs": [
        {
          "output_type": "execute_result",
          "data": {
            "text/plain": [
              "{'Age': '26', 'City': 'Mumbai', 'Mobile': '12345'}"
            ]
          },
          "metadata": {
            "tags": []
          },
          "execution_count": 26
        }
      ]
    },
    {
      "cell_type": "code",
      "metadata": {
        "id": "NwUOsLprLR_v",
        "colab_type": "code",
        "colab": {
          "base_uri": "https://localhost:8080/",
          "height": 102
        },
        "outputId": "b2fd06df-38a5-461f-e489-62fa43044e07"
      },
      "source": [
        "#adding element\n",
        "\n",
        "dit = {\"Name\":\"Manali Hardas\", \"Age\": \"26\", \"Mobile\": \"12345\", \"City\":\"Mumbai\"}\n",
        "dit[\"School\"] = \"Pvhs\"\n",
        "dit"
      ],
      "execution_count": 27,
      "outputs": [
        {
          "output_type": "execute_result",
          "data": {
            "text/plain": [
              "{'Age': '26',\n",
              " 'City': 'Mumbai',\n",
              " 'Mobile': '12345',\n",
              " 'Name': 'Manali Hardas',\n",
              " 'School': 'Pvhs'}"
            ]
          },
          "metadata": {
            "tags": []
          },
          "execution_count": 27
        }
      ]
    },
    {
      "cell_type": "code",
      "metadata": {
        "id": "gZFpfDztL4Jz",
        "colab_type": "code",
        "colab": {
          "base_uri": "https://localhost:8080/",
          "height": 34
        },
        "outputId": "08344cf7-b165-41ea-e0bb-8fa8edf9f2ac"
      },
      "source": [
        "#keys\n",
        "\n",
        "dit = {\"Name\":\"Manali Hardas\", \"Age\": \"26\", \"Mobile\": \"12345\", \"City\":\"Mumbai\"}\n",
        "dit.keys()\n",
        "dit"
      ],
      "execution_count": 28,
      "outputs": [
        {
          "output_type": "execute_result",
          "data": {
            "text/plain": [
              "{'Age': '26', 'City': 'Mumbai', 'Mobile': '12345', 'Name': 'Manali Hardas'}"
            ]
          },
          "metadata": {
            "tags": []
          },
          "execution_count": 28
        }
      ]
    },
    {
      "cell_type": "code",
      "metadata": {
        "id": "K-IVOTuzMFOI",
        "colab_type": "code",
        "colab": {
          "base_uri": "https://localhost:8080/",
          "height": 34
        },
        "outputId": "940c181c-32a3-48df-f061-eb3ab46a401f"
      },
      "source": [
        "#values\n",
        "\n",
        "dit = {\"Name\":\"Manali Hardas\", \"Age\": \"26\", \"Mobile\": \"12345\", \"City\":\"Mumbai\"}\n",
        "dit.values()\n"
      ],
      "execution_count": 29,
      "outputs": [
        {
          "output_type": "execute_result",
          "data": {
            "text/plain": [
              "dict_values(['Manali Hardas', '26', '12345', 'Mumbai'])"
            ]
          },
          "metadata": {
            "tags": []
          },
          "execution_count": 29
        }
      ]
    },
    {
      "cell_type": "code",
      "metadata": {
        "id": "kIH68LuvM8Am",
        "colab_type": "code",
        "colab": {
          "base_uri": "https://localhost:8080/",
          "height": 34
        },
        "outputId": "7c59140e-2b8b-4a22-9e4a-2fa7d70ed875"
      },
      "source": [
        "#sets\n",
        "\n",
        "st =  {\"Manali\",\"Hardas\",1,2,3,4,4,5,6,5,5, \"mumbai\"}\n",
        "st"
      ],
      "execution_count": 30,
      "outputs": [
        {
          "output_type": "execute_result",
          "data": {
            "text/plain": [
              "{1, 2, 3, 4, 5, 6, 'Hardas', 'Manali', 'mumbai'}"
            ]
          },
          "metadata": {
            "tags": []
          },
          "execution_count": 30
        }
      ]
    },
    {
      "cell_type": "code",
      "metadata": {
        "id": "dMjd5GCCOfsz",
        "colab_type": "code",
        "colab": {
          "base_uri": "https://localhost:8080/",
          "height": 34
        },
        "outputId": "61680592-42c6-4cdf-c3b8-1483e1670840"
      },
      "source": [
        "#add\n",
        "st.add(7)\n",
        "st"
      ],
      "execution_count": 31,
      "outputs": [
        {
          "output_type": "execute_result",
          "data": {
            "text/plain": [
              "{1, 2, 3, 4, 5, 6, 7, 'Hardas', 'Manali', 'mumbai'}"
            ]
          },
          "metadata": {
            "tags": []
          },
          "execution_count": 31
        }
      ]
    },
    {
      "cell_type": "code",
      "metadata": {
        "id": "0wWnZdp2Oyw_",
        "colab_type": "code",
        "colab": {
          "base_uri": "https://localhost:8080/",
          "height": 34
        },
        "outputId": "7a09776e-c8c3-4668-c4b5-bb16aa9b9eee"
      },
      "source": [
        "#clear\n",
        "st =  {\"Manali\",\"Hardas\",1,2,3,4,4,5,6,5,5, \"mumbai\"}\n",
        "st.clear()\n",
        "st"
      ],
      "execution_count": 32,
      "outputs": [
        {
          "output_type": "execute_result",
          "data": {
            "text/plain": [
              "set()"
            ]
          },
          "metadata": {
            "tags": []
          },
          "execution_count": 32
        }
      ]
    },
    {
      "cell_type": "code",
      "metadata": {
        "id": "wVkbD2SMPEyx",
        "colab_type": "code",
        "colab": {
          "base_uri": "https://localhost:8080/",
          "height": 34
        },
        "outputId": "2215fe87-88bc-4cc3-d683-eba1aa6046a3"
      },
      "source": [
        "#pop\n",
        "st =  {\"Manali\",\"Hardas\",1,2,3,4,4,5,6,5,5, \"mumbai\"}\n",
        "st.pop()\n",
        "st"
      ],
      "execution_count": 34,
      "outputs": [
        {
          "output_type": "execute_result",
          "data": {
            "text/plain": [
              "{1, 2, 3, 4, 5, 6, 'Hardas', 'mumbai'}"
            ]
          },
          "metadata": {
            "tags": []
          },
          "execution_count": 34
        }
      ]
    },
    {
      "cell_type": "code",
      "metadata": {
        "id": "bm_LoeyhRW48",
        "colab_type": "code",
        "colab": {
          "base_uri": "https://localhost:8080/",
          "height": 34
        },
        "outputId": "42485e1f-0fd9-4509-9b37-14954561e90e"
      },
      "source": [
        "#union\n",
        "a = {1,2,3,4,5}\n",
        "b = {6,7,8,9,10}\n",
        "\n",
        "a.union(b)\n",
        "\n"
      ],
      "execution_count": 38,
      "outputs": [
        {
          "output_type": "execute_result",
          "data": {
            "text/plain": [
              "{1, 2, 3, 4, 5, 6, 7, 8, 9, 10}"
            ]
          },
          "metadata": {
            "tags": []
          },
          "execution_count": 38
        }
      ]
    },
    {
      "cell_type": "code",
      "metadata": {
        "id": "C3vPOBxBSzLC",
        "colab_type": "code",
        "colab": {
          "base_uri": "https://localhost:8080/",
          "height": 34
        },
        "outputId": "ba25140b-a666-448e-ebf3-a270511dc21e"
      },
      "source": [
        "#intersection\n",
        "a = {1,2,3,4,5}\n",
        "b = {6,5,8,9,10}\n",
        "a.intersection(b)"
      ],
      "execution_count": 41,
      "outputs": [
        {
          "output_type": "execute_result",
          "data": {
            "text/plain": [
              "{5}"
            ]
          },
          "metadata": {
            "tags": []
          },
          "execution_count": 41
        }
      ]
    },
    {
      "cell_type": "code",
      "metadata": {
        "id": "QGWf4uutTLec",
        "colab_type": "code",
        "colab": {
          "base_uri": "https://localhost:8080/",
          "height": 34
        },
        "outputId": "65edb231-6e7c-44bf-87f9-9b5c748ea905"
      },
      "source": [
        "#tuple\n",
        "#count\n",
        "tup = (\"manali\",\"Hardas\",\"mumbai\")\n",
        "tup.count(\"Hardas\")"
      ],
      "execution_count": 43,
      "outputs": [
        {
          "output_type": "execute_result",
          "data": {
            "text/plain": [
              "1"
            ]
          },
          "metadata": {
            "tags": []
          },
          "execution_count": 43
        }
      ]
    },
    {
      "cell_type": "code",
      "metadata": {
        "id": "jnc5H6QLVALE",
        "colab_type": "code",
        "colab": {
          "base_uri": "https://localhost:8080/",
          "height": 34
        },
        "outputId": "ac8af4aa-ce2c-43d0-fd54-267dba1e339b"
      },
      "source": [
        "#index\n",
        "\n",
        "tup.index(\"mumbai\")"
      ],
      "execution_count": 44,
      "outputs": [
        {
          "output_type": "execute_result",
          "data": {
            "text/plain": [
              "2"
            ]
          },
          "metadata": {
            "tags": []
          },
          "execution_count": 44
        }
      ]
    },
    {
      "cell_type": "code",
      "metadata": {
        "id": "SPZ3U6YeVKtK",
        "colab_type": "code",
        "colab": {
          "base_uri": "https://localhost:8080/",
          "height": 35
        },
        "outputId": "9387e251-7f56-47bf-8fc9-8f12f9a5984d"
      },
      "source": [
        "#string\n",
        "#lower\n",
        "\n",
        "st = \"Hello Letsupgrade\"\n",
        "st\n",
        "st.lower()"
      ],
      "execution_count": 47,
      "outputs": [
        {
          "output_type": "execute_result",
          "data": {
            "application/vnd.google.colaboratory.intrinsic+json": {
              "type": "string"
            },
            "text/plain": [
              "'hello letsupgrade'"
            ]
          },
          "metadata": {
            "tags": []
          },
          "execution_count": 47
        }
      ]
    },
    {
      "cell_type": "code",
      "metadata": {
        "id": "4FrA-tyCWToq",
        "colab_type": "code",
        "colab": {
          "base_uri": "https://localhost:8080/",
          "height": 35
        },
        "outputId": "f20c685e-c578-4733-d8b6-6dac777ef676"
      },
      "source": [
        "#upper\n",
        "st = \"Hello Letsupgrade\"\n",
        "st.upper()"
      ],
      "execution_count": 48,
      "outputs": [
        {
          "output_type": "execute_result",
          "data": {
            "application/vnd.google.colaboratory.intrinsic+json": {
              "type": "string"
            },
            "text/plain": [
              "'HELLO LETSUPGRADE'"
            ]
          },
          "metadata": {
            "tags": []
          },
          "execution_count": 48
        }
      ]
    },
    {
      "cell_type": "code",
      "metadata": {
        "id": "2i0tgOlnWfBx",
        "colab_type": "code",
        "colab": {
          "base_uri": "https://localhost:8080/",
          "height": 34
        },
        "outputId": "28a49fa0-12b5-46b3-bdf8-6e3978aa5024"
      },
      "source": [
        "#count\n",
        "\n",
        "st.count(\"Letsupgrade\")"
      ],
      "execution_count": 49,
      "outputs": [
        {
          "output_type": "execute_result",
          "data": {
            "text/plain": [
              "1"
            ]
          },
          "metadata": {
            "tags": []
          },
          "execution_count": 49
        }
      ]
    },
    {
      "cell_type": "code",
      "metadata": {
        "id": "6zvCmx7TXEIz",
        "colab_type": "code",
        "colab": {
          "base_uri": "https://localhost:8080/",
          "height": 34
        },
        "outputId": "545741eb-f5a1-4e7a-c268-48fcae4bfe6f"
      },
      "source": [
        "#find\n",
        "\n",
        "st.find(\"s\")"
      ],
      "execution_count": 50,
      "outputs": [
        {
          "output_type": "execute_result",
          "data": {
            "text/plain": [
              "9"
            ]
          },
          "metadata": {
            "tags": []
          },
          "execution_count": 50
        }
      ]
    },
    {
      "cell_type": "code",
      "metadata": {
        "id": "3pnLhra5Xc0B",
        "colab_type": "code",
        "colab": {
          "base_uri": "https://localhost:8080/",
          "height": 35
        },
        "outputId": "acfb55b5-c7cf-4da3-9b97-44d00b530a31"
      },
      "source": [
        "#capitalize\n",
        "\n",
        "st.capitalize()"
      ],
      "execution_count": 51,
      "outputs": [
        {
          "output_type": "execute_result",
          "data": {
            "application/vnd.google.colaboratory.intrinsic+json": {
              "type": "string"
            },
            "text/plain": [
              "'Hello letsupgrade'"
            ]
          },
          "metadata": {
            "tags": []
          },
          "execution_count": 51
        }
      ]
    }
  ]
}